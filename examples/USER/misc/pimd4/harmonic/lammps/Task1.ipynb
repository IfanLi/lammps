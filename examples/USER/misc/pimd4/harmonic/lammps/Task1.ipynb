{
 "cells": [
  {
   "cell_type": "code",
   "execution_count": 1,
   "id": "introductory-mechanism",
   "metadata": {},
   "outputs": [],
   "source": [
    "import numpy as np\n",
    "import matplotlib.pyplot as plt\n",
    "%matplotlib inline"
   ]
  },
  {
   "cell_type": "markdown",
   "id": "pediatric-equity",
   "metadata": {},
   "source": [
    "This code is correct for atomic units. A good choice of parameters is:\n",
    "$$T=1.0$$\n",
    "$$\\omega=0.5$$\n",
    "$$dt=0.2$$\n",
    "\n",
    "The correctness has also been tested for real units. The following parameter is good enough for kinetic energy estimators, but does not work perfectly for pressure estimators:\n",
    "$$T=300.0$$\n",
    "$$\\omega=5.0$$\n",
    "$$dt=0.001$$\n",
    "\n",
    "For $T=500.0$, the primitive kinetic energy estimator gives the correct result, while the centroid-virial one does not. The reason remains for further investigation."
   ]
  },
  {
   "cell_type": "code",
   "execution_count": 281,
   "id": "connected-johns",
   "metadata": {},
   "outputs": [
    {
     "data": {
      "text/plain": [
       "0.07860487289969945"
      ]
     },
     "execution_count": 281,
     "metadata": {},
     "output_type": "execute_result"
    }
   ],
   "source": [
    "omega_P"
   ]
  },
  {
   "cell_type": "code",
   "execution_count": 527,
   "id": "addressed-generic",
   "metadata": {},
   "outputs": [
    {
     "data": {
      "text/plain": [
       "1.0"
      ]
     },
     "execution_count": 527,
     "metadata": {},
     "output_type": "execute_result"
    }
   ],
   "source": [
    "beta"
   ]
  },
  {
   "cell_type": "code",
   "execution_count": 549,
   "id": "second-socket",
   "metadata": {},
   "outputs": [
    {
     "data": {
      "text/plain": [
       "1.0"
      ]
     },
     "execution_count": 549,
     "metadata": {},
     "output_type": "execute_result"
    }
   ],
   "source": [
    "omega**2"
   ]
  },
  {
   "cell_type": "code",
   "execution_count": 603,
   "id": "structural-compiler",
   "metadata": {},
   "outputs": [],
   "source": [
    "d = 3\n",
    "P = 4\n",
    "units = \"atomic\"\n",
    "# units = \"real\"\n",
    "if units == \"atomic\":\n",
    "    kB = 1.0\n",
    "    hplanck = 1.0\n",
    "    mvv2e = 1.0\n",
    "    ftm2v = 1.0\n",
    "elif units == \"real\":\n",
    "    kB = 0.0019872067\n",
    "    hplanck = 95.306976368\n",
    "    mvv2e = 48.88821291 * 48.88821291\n",
    "    ftm2v = 1. / mvv2e\n",
    "#     mvv2e = 1.0\n",
    "#     ftm2v = 1.0\n",
    "\n",
    "L = 10.0\n",
    "V = L**d\n",
    "Temp = 1.0\n",
    "# Temp = 500.0\n",
    "beta = 1.0 / kB / Temp\n",
    "hbar = hplanck / 2 / np.pi\n",
    "omega_P = np.sqrt(P) / (beta * hbar)\n",
    "m = 1.0\n",
    "# omega = 5.0\n",
    "omega = 1.0\n",
    "dt = 0.2\n",
    "dtf = dt * ftm2v\n",
    "\n",
    "prop = np.zeros([2, 2])\n",
    "prop[0, 0] = np.cos(0.5*dt * omega_P)\n",
    "prop[1, 1] = np.cos(0.5*dt * omega_P)\n",
    "prop[0, 1] = np.sin(0.5*dt * omega_P) / omega_P\n",
    "prop[1, 0] = -np.sin(0.5*dt * omega_P) * omega_P"
   ]
  },
  {
   "cell_type": "code",
   "execution_count": 604,
   "id": "impaired-pharmaceutical",
   "metadata": {},
   "outputs": [],
   "source": [
    "T = np.zeros([P, P])\n",
    "\n",
    "def idx(i, P):\n",
    "    if i<0:\n",
    "        return i+P\n",
    "    elif i>=P:\n",
    "        return i-P\n",
    "    else:\n",
    "        return i\n",
    "\n",
    "for i in range(P):\n",
    "    T[idx(i, P), idx(i, P)] = 2\n",
    "    T[idx(i, P), idx(i+1, P)] = -1\n",
    "    T[idx(i, P), idx(i-1, P)] = -1"
   ]
  },
  {
   "cell_type": "code",
   "execution_count": 605,
   "id": "amber-complex",
   "metadata": {},
   "outputs": [],
   "source": [
    "def force(x):\n",
    "#     return -1. * m * omega**2 * (x + x**2 + x**3)\n",
    "    return -1. * m * omega**2 * x * mvv2e\n",
    "#     return np.zeros(x.shape[0])\n",
    "\n",
    "def ke(v):\n",
    "    ke_val = 0.0\n",
    "    for i in range(P):\n",
    "#         print(\"ke[%d]=%.6e.\"%(i, 0.5 * Mp[i] * v[i]**2))\n",
    "        ke_val += 0.5 * Mp[i] * v[i]**2\n",
    "#     return 0.5 * m * v@v\n",
    "    return ke_val * mvv2e\n",
    "\n",
    "def pe(x):\n",
    "#     return 0.5 / P * m * omega**2 * (x**2 + 2/3*x**3 + 0.5*x**4).sum()\n",
    "    return 0.5 / P * m * omega**2 * (x**2).sum() * mvv2e\n",
    "#     return 0\n",
    "\n",
    "def spring_energy(x):\n",
    "    return 0.5 * m * omega_P**2 * x@T@x * mvv2e\n",
    "#     sp_val = 0.0\n",
    "#     for i in range(P):\n",
    "#         sp_val += 0.5 * Mp[i] * omega_P**2 * x[i]**2\n",
    "#     return sp_val\n",
    "\n",
    "def total_e_pimd(v, x):\n",
    "    return ke(v) + spring_energy(x) + pe(x)"
   ]
  },
  {
   "cell_type": "code",
   "execution_count": 606,
   "id": "shaped-welsh",
   "metadata": {},
   "outputs": [],
   "source": [
    "# Mx2xp = np.zeros([P, P]).astype(\"complex\")\n",
    "# Mxp2x = np.zeros([P, P])\n",
    "# for i in range(2, P):\n",
    "#     for j in range(P):\n",
    "#         Mx2xp[i, j] = np.sqrt(2) / np.sqrt(P) * np.exp(-2*np.pi*(int(i/2))*j/P*1j)\n",
    "# #         Mxp2x[i, j] = 1./np.sqrt(P) * np.exp(2*np.pi*j*i/P*1j)\n",
    "# for i in range(1, P-1):\n",
    "#     if i%2==1:\n",
    "#         Mx2xp[i] = Mx2xp[i].real\n",
    "#     elif i%2==0:\n",
    "#         Mx2xp[i] = Mx2xp[i].imag\n",
    "# for j in range(P):\n",
    "#     Mx2xp[0, j] = 1./np.sqrt(P)\n",
    "#     Mx2xp[1, j] = 1./np.sqrt(P) * (-1)**j\n",
    "# Mx2xp = Mx2xp.real\n",
    "# Mxp2x = Mx2xp.T"
   ]
  },
  {
   "cell_type": "code",
   "execution_count": 607,
   "id": "apparent-billy",
   "metadata": {},
   "outputs": [],
   "source": [
    "Mx2xp = np.zeros([P, P])\n",
    "Mxp2x = np.zeros([P, P])\n",
    "\n",
    "for j in range(P):\n",
    "    Mx2xp[0, j] = 1./np.sqrt(P)\n",
    "    if P%2==0:\n",
    "        Mx2xp[P-1, j] = 1./np.sqrt(P) * (-1)**j\n",
    "    \n",
    "for i in range(int((P-1)/2)):\n",
    "    for j in range(P):\n",
    "        Mx2xp[2*i+1, j] = np.sqrt(2.0) * np.cos ( 2.0 * np.pi * (i+1) * j / P) / np.sqrt(P)\n",
    "        Mx2xp[2*i+2, j] = -np.sqrt(2.0) * np.sin ( 2.0 * np.pi * (i+1) * j / P) / np.sqrt(P)\n",
    "        \n",
    "Mxp2x = Mx2xp.T"
   ]
  },
  {
   "cell_type": "code",
   "execution_count": 608,
   "id": "veterinary-tractor",
   "metadata": {},
   "outputs": [],
   "source": [
    "def ft(x):\n",
    "    return Mx2xp @ x\n",
    "def ift(xp):\n",
    "    return Mxp2x @ xp\n",
    "L = Mxp2x.T@T@Mxp2x\n",
    "L[np.abs(L)<1e-10] = 0\n",
    "Lam = np.array([L[i, i] for i in range(P)])\n",
    "Lamp = Lam\n",
    "Lamp[0] = 1\n",
    "Mp = m*Lamp"
   ]
  },
  {
   "cell_type": "code",
   "execution_count": 609,
   "id": "equipped-survivor",
   "metadata": {},
   "outputs": [],
   "source": [
    "def b_step(v, f):\n",
    "    return v + 0.5*dtf * f / Mp\n",
    "\n",
    "def a_step(x, v):\n",
    "    x[0] += 0.5*dt * v[0]\n",
    "    for i in range(1, P):\n",
    "        xv = np.zeros(2)\n",
    "        xv[0] = x[i]\n",
    "        xv[1] = v[i]\n",
    "        xv = prop@xv\n",
    "        x[i] = xv[0]\n",
    "        v[i] = xv[1]\n",
    "    return x, v"
   ]
  },
  {
   "cell_type": "code",
   "execution_count": 610,
   "id": "documentary-green",
   "metadata": {},
   "outputs": [],
   "source": [
    "gamma_ln = omega_P\n",
    "c1 = np.exp(-dt * gamma_ln)\n",
    "c2 = np.sqrt(1.0 - c1**2)\n",
    "\n",
    "def o_step(v, thermo=\"PILE_G\"):\n",
    "    eta = np.random.randn(P)\n",
    "    if thermo==\"PILE_G\": \n",
    "        K = 0.5 * m * v[0]**2 * mvv2e\n",
    "        alpha2 = c1 + (1. - c1)*eta[0]**2/(2. * beta * K) + 2. * eta[0] * np.sqrt(c1 * (1. - c1) / 2 / beta / K)\n",
    "        sgn_ = eta[0] + np.sqrt(2*beta*K*c1/(1. - c1))\n",
    "        sgn = sgn_ / np.abs(sgn_)\n",
    "        alpha = sgn * np.sqrt(alpha2)\n",
    "        v[0] *= alpha\n",
    "    #     print(\"beta = {:.4f}\".format(beta))\n",
    "        v[1:] = c1 * v[1:] + c2 * np.sqrt(1. / beta / Mp[1:] / mvv2e) * eta[1:]\n",
    "    elif thermo==\"PILE_L\":\n",
    "        v = c1 * v + c2 * np.sqrt(1. / beta / Mp / mvv2e) * eta\n",
    "    else:\n",
    "        raise ValueError(\"Invalid thermostat parameter!\")\n",
    "    return v"
   ]
  },
  {
   "cell_type": "code",
   "execution_count": 611,
   "id": "unable-terrorism",
   "metadata": {},
   "outputs": [],
   "source": [
    "# def step(x, v, f):\n",
    "#     v = b_step(v, f)\n",
    "#     x = ft(x)\n",
    "#     x, v = a_step(x, v)\n",
    "#     v = o_step(v)\n",
    "#     x, v = a_step(x, v)\n",
    "#     x = ift(x)\n",
    "#     f = force(x)\n",
    "#     f = ft(f)\n",
    "#     v = b_step(v, f)\n",
    "#     return x, v, f"
   ]
  },
  {
   "cell_type": "code",
   "execution_count": 612,
   "id": "adopted-nancy",
   "metadata": {},
   "outputs": [],
   "source": [
    "def initial_integrate(x, v, f):\n",
    "    v = b_step(v, f)\n",
    "    x = ft(x)\n",
    "    x, v = a_step(x, v)\n",
    "    return x, v, f\n",
    "    \n",
    "def post_integrate(x, v, f):\n",
    "    v = o_step(v, thermo=\"PILE_L\")\n",
    "    x, v = a_step(x, v)\n",
    "    x = ift(x)\n",
    "    return x, v, f\n",
    "\n",
    "def post_force(x, v, f):\n",
    "    se_ = spring_energy(x)\n",
    "    vir_ = x @ f\n",
    "    cv_ = x.mean() * f.sum()\n",
    "    \n",
    "    t_prim = compute_t_prim(se_)\n",
    "    t_cv = compute_t_cv(vir_, cv_)\n",
    "    p_prim = compute_p_prim(se_, vir_)\n",
    "    p_cv = compute_p_cv(cv_)\n",
    "    f = 1./P * f\n",
    "    f = ft(f)\n",
    "    return x, v, f, t_prim, t_cv, p_prim, p_cv\n",
    "\n",
    "def final_integrate(x, v, f):\n",
    "    v = b_step(v, f)\n",
    "    return x, v, f"
   ]
  },
  {
   "cell_type": "code",
   "execution_count": 613,
   "id": "changing-schema",
   "metadata": {},
   "outputs": [],
   "source": [
    "def baoab_step(x, v, f):\n",
    "    x, v, f = initial_integrate(x, v, f)\n",
    "    x, v, f = post_integrate(x, v, f)\n",
    "    f = force(x)\n",
    "    x, v, f, t_prim, t_cv, p_prim, p_cv = post_force(x, v, f)\n",
    "    x, v, f = final_integrate(x, v, f)\n",
    "#     print(v[1])\n",
    "#     print(\"%.6e, %.6e\"%(v[0], x[0]))\n",
    "#     print(x)\n",
    "    return x, v, f, t_prim, t_cv, p_prim, p_cv"
   ]
  },
  {
   "cell_type": "code",
   "execution_count": 614,
   "id": "ahead-humanitarian",
   "metadata": {},
   "outputs": [],
   "source": [
    "Nsteps = 1000000"
   ]
  },
  {
   "cell_type": "code",
   "execution_count": 616,
   "id": "fantastic-opportunity",
   "metadata": {},
   "outputs": [],
   "source": [
    "def compute_t_prim(se_):\n",
    "    return 0.5 * P / beta - se_\n",
    "\n",
    "def compute_t_cv(vir_, cv_):\n",
    "    return 0.5 / beta - 0.5 / P * (vir_ - cv_)\n",
    "#     return -0.5 / P * vir_\n",
    "\n",
    "def compute_p_prim(se_, vir_):\n",
    "    return P / beta / V - 2. / d / V  * se_ + 1. / d / V / P * vir_\n",
    "#     return 0.0\n",
    "\n",
    "def compute_p_cv(cv_):\n",
    "    return d / beta / V + 1. / V / P * cv_\n",
    "#     return 0.0"
   ]
  },
  {
   "cell_type": "code",
   "execution_count": 617,
   "id": "skilled-letter",
   "metadata": {},
   "outputs": [
    {
     "name": "stdout",
     "output_type": "stream",
     "text": [
      "9.009493e-05, 0.000000e+00, 9.009493e-05\n",
      "7.586328e-02, 3.755311e+00, 4.746501e+00\n",
      "1.148747e+00, 8.711958e-01, 2.173484e+00\n",
      "2.676307e+00, 1.823491e+00, 4.861078e+00\n",
      "7.480808e-01, 2.275608e+00, 3.967451e+00\n",
      "3.242169e+00, 4.756473e+00, 8.019459e+00\n",
      "5.819434e-01, 1.571182e+00, 3.720932e+00\n",
      "8.918563e-01, 9.411056e-01, 1.908441e+00\n",
      "3.241308e+00, 4.088318e+00, 7.712373e+00\n",
      "3.283639e+00, 2.192523e+00, 5.709517e+00\n",
      "1.867790e+00, 3.658169e+00, 5.861943e+00\n"
     ]
    }
   ],
   "source": [
    "# x = np.random.randn(P)\n",
    "x = np.zeros(P)\n",
    "v = 0.01*np.random.randn(P)\n",
    "t_prim = 0.0\n",
    "t_cv = 0.0\n",
    "p_prim = 0.0\n",
    "p_cv = 0.0\n",
    "\n",
    "KE = []\n",
    "PE = []\n",
    "SE = []\n",
    "\n",
    "T_prim = []\n",
    "T_cv = []\n",
    "P_prim = []\n",
    "P_cv = []\n",
    "\n",
    "for istep in range(Nsteps+1):\n",
    "    if istep==0:\n",
    "        f = force(x)\n",
    "        post_force(x, v, f)\n",
    "#     print(x[0], v[0], f[0])\n",
    "    \n",
    "    if istep%10==0:\n",
    "        \n",
    "        KE.append(ke(v))\n",
    "        PE.append(pe(x))\n",
    "        SE.append(spring_energy(x))\n",
    "\n",
    "    if istep%100000==0:\n",
    "        print(\"%.6e, %.6e, %.6e\"%(ke(v), spring_energy(x), total_e_pimd(v, x)))\n",
    "#     print()\n",
    "\n",
    "#     v = b_step(v, f)\n",
    "#     x = ft(x)\n",
    "#     x, v = a_step(x, v)\n",
    "# #     v = o_step(v)\n",
    "#     x, v = a_step(x, v)\n",
    "#     x = ift(x)\n",
    "#     f = force(x)\n",
    "#     f = ft(f)\n",
    "#     v = b_step(v, f)\n",
    "#     print(\"end of step %d\"%istep)\n",
    "    x, v, f, t_prim, t_cv, p_prim, p_cv = baoab_step(x, v, f)\n",
    "    T_prim.append(t_prim)\n",
    "    T_cv.append(t_cv)\n",
    "    P_prim.append(p_prim)\n",
    "    P_cv.append(p_cv)\n",
    "    \n",
    "KE = np.array(KE)\n",
    "PE = np.array(PE)\n",
    "SE = np.array(SE)\n",
    "\n",
    "T_cv = np.array(T_cv)\n",
    "P_cv = np.array(P_cv)\n",
    "T_prim = np.array(T_prim)\n",
    "P_prim = np.array(P_prim)"
   ]
  },
  {
   "cell_type": "code",
   "execution_count": 552,
   "id": "brilliant-prophet",
   "metadata": {},
   "outputs": [],
   "source": [
    "#np.save(\"lj1_PILEG\", np.c_[T_prim, T_cv, P_prim, P_cv])"
   ]
  },
  {
   "cell_type": "code",
   "execution_count": 553,
   "id": "seeing-reporter",
   "metadata": {},
   "outputs": [
    {
     "data": {
      "text/plain": [
       "1.0"
      ]
     },
     "execution_count": 553,
     "metadata": {},
     "output_type": "execute_result"
    }
   ],
   "source": [
    "beta"
   ]
  },
  {
   "cell_type": "code",
   "execution_count": 620,
   "id": "amended-resistance",
   "metadata": {},
   "outputs": [
    {
     "name": "stdout",
     "output_type": "stream",
     "text": [
      "1.501311, 1.502968, 0.008020, 0.006064\n"
     ]
    }
   ],
   "source": [
    "t_prim_mean = 3*T_prim[1000:].mean()\n",
    "t_cv_mean = 3*T_cv[1000:].mean()\n",
    "p_prim_mean = 3*P_prim[1000:].mean()\n",
    "p_cv_mean = 3*P_cv[1000:].mean()\n",
    "print(\"{:.6f}, {:.6f}, {:.6f}, {:.6f}\".format(t_prim_mean, t_cv_mean, p_prim_mean, p_cv_mean))"
   ]
  },
  {
   "cell_type": "code",
   "execution_count": 621,
   "id": "comic-kruger",
   "metadata": {},
   "outputs": [],
   "source": [
    "def errbar(data):\n",
    "    nsamp = 500\n",
    "    nevery = int(data.shape[0] / nsamp)\n",
    "    data_ = np.zeros(nsamp)\n",
    "    for k in range(nsamp):\n",
    "        data_[k] = data[k*nevery:(k+1)*nevery].mean()\n",
    "    errbar_ = np.sqrt(data_.var()/(nsamp-1))\n",
    "    return errbar_"
   ]
  },
  {
   "cell_type": "code",
   "execution_count": 622,
   "id": "subsequent-forty",
   "metadata": {},
   "outputs": [
    {
     "data": {
      "text/plain": [
       "(9991,)"
      ]
     },
     "execution_count": 622,
     "metadata": {},
     "output_type": "execute_result"
    }
   ],
   "source": [
    "T_prim[1000::100].shape"
   ]
  },
  {
   "cell_type": "code",
   "execution_count": 623,
   "id": "phantom-conflict",
   "metadata": {},
   "outputs": [
    {
     "data": {
      "text/plain": [
       "(9991,)"
      ]
     },
     "execution_count": 623,
     "metadata": {},
     "output_type": "execute_result"
    }
   ],
   "source": [
    "t_prim_lmp[10::].shape"
   ]
  },
  {
   "cell_type": "code",
   "execution_count": 624,
   "id": "lasting-seller",
   "metadata": {},
   "outputs": [
    {
     "name": "stdout",
     "output_type": "stream",
     "text": [
      "1.528939, 1.502947, 0.008042, 0.006073\n"
     ]
    }
   ],
   "source": [
    "t_prim_mean = 3*T_prim[1000::100].mean()\n",
    "t_cv_mean = 3*T_cv[1000::100].mean()\n",
    "p_prim_mean = 3*P_prim[1000::100].mean()\n",
    "p_cv_mean = 3*P_cv[1000::100].mean()\n",
    "print(\"{:.6f}, {:.6f}, {:.6f}, {:.6f}\".format(t_prim_mean, t_cv_mean, p_prim_mean, p_cv_mean))"
   ]
  },
  {
   "cell_type": "code",
   "execution_count": 625,
   "id": "monthly-hampshire",
   "metadata": {},
   "outputs": [],
   "source": [
    "tprimerr = errbar(3*T_prim[1000::100])\n",
    "tcverr = errbar(3*T_cv[1000::100])\n",
    "pprimerr = errbar(3*P_prim[1000::100])\n",
    "pcverr = errbar(3*P_cv[1000::100])"
   ]
  },
  {
   "cell_type": "code",
   "execution_count": 628,
   "id": "super-receipt",
   "metadata": {},
   "outputs": [],
   "source": [
    "kepr_ = np.load(\"task1.npy\")"
   ]
  },
  {
   "cell_type": "code",
   "execution_count": 629,
   "id": "expired-large",
   "metadata": {},
   "outputs": [],
   "source": [
    "t_prim_lmp = kepr_[:, 0]\n",
    "t_vir_lmp = kepr_[:, 1]\n",
    "t_cv_lmp = kepr_[:, 2]\n",
    "p_prim_lmp = kepr_[:, 3]\n",
    "p_cv_lmp = kepr_[:, 4]\n",
    "t_prim_lmp_mean = t_prim_lmp[10::].mean()\n",
    "t_vir_lmp_mean = t_vir_lmp[10::].mean()\n",
    "t_cv_lmp_mean = t_cv_lmp[10::].mean()\n",
    "p_prim_lmp_mean = p_prim_lmp[10::].mean()\n",
    "p_cv_lmp_mean = p_cv_lmp[10::].mean()"
   ]
  },
  {
   "cell_type": "code",
   "execution_count": 630,
   "id": "placed-camcorder",
   "metadata": {},
   "outputs": [],
   "source": [
    "tprim_lmperr = errbar(t_prim_lmp[10::])\n",
    "tvir_lmperr = errbar(t_vir_lmp[10::])\n",
    "tcv_lmperr = errbar(t_cv_lmp[10::])\n",
    "pprim_lmperr = errbar(p_prim_lmp[10::])\n",
    "pcv_lmperr = errbar(p_cv_lmp[10::])"
   ]
  },
  {
   "cell_type": "code",
   "execution_count": 631,
   "id": "naughty-retreat",
   "metadata": {},
   "outputs": [
    {
     "data": {
      "text/plain": [
       "1.4943114573934841"
      ]
     },
     "execution_count": 631,
     "metadata": {},
     "output_type": "execute_result"
    }
   ],
   "source": [
    "t_vir_lmp_mean"
   ]
  },
  {
   "cell_type": "code",
   "execution_count": 703,
   "id": "acceptable-healing",
   "metadata": {},
   "outputs": [
    {
     "data": {
      "text/plain": [
       "[<matplotlib.lines.Line2D at 0x134887650>]"
      ]
     },
     "execution_count": 703,
     "metadata": {},
     "output_type": "execute_result"
    },
    {
     "data": {
      "image/png": "[encoded data removed]",
      "text/plain": [
       "<Figure size 1152x864 with 1 Axes>"
      ]
     },
     "metadata": {
      "needs_background": "light"
     },
     "output_type": "display_data"
    }
   ],
   "source": [
    "plt.figure(figsize = (16, 12))\n",
    "plt.xticks([0, 1, 2], [\"$T_{\\mathrm{prim}}$\", \"$T_{\\mathrm{vir}}$\", \"$T_{\\mathrm{cv}}$\"], fontsize = 16)\n",
    "# plt.xticks([], [], fontsize = 16)\n",
    "plt.yticks(fontsize = 16)\n",
    "plt.ylabel(\"Kinetic energy / Hartree\", fontsize = 16)\n",
    "# plt.errorbar(0, t_prim_mean, 1.0*tprimerr, marker = \"s\", linewidth = 0, elinewidth = 2.0, label = \"primitive kinetic energy estimator, model code\")\n",
    "# plt.errorbar(1, t_cv_mean, 1.0*tcverr, marker = \"s\", linewidth = 0, elinewidth = 2.0, label = \"centroid-virial kinetic energy estimator, model code\")\n",
    "plt.errorbar(0, t_prim_lmp_mean, 1.0*tprim_lmperr, marker = \"s\", linewidth = 0, elinewidth = 2.0, label = \"primitive kinetic energy estimator, lammps\")\n",
    "plt.errorbar(1, t_vir_lmp_mean, 1.0*tvir_lmperr, marker = \"s\", linewidth = 0, elinewidth = 2.0, label = \"virial kinetic energy estimator, lammps\")\n",
    "plt.errorbar(2, t_cv_lmp_mean, 1.0*tcv_lmperr, marker = \"s\", linewidth = 0, elinewidth = 2.0, label = \"centroid-virial kinetic energy estimator, lammps\")\n",
    "plt.legend(fontsize = 16)\n",
    "plt.text(0.2, 1.513, \"Expectation of quantum kinetic energy: $<T>=1.502966$\", fontsize = 16)\n",
    "plt.text(0.2, 1.523, \"PIMD simulation of a harmonic oscillator with 4 beads, $\\\\beta=1.0$, $\\omega=1.0$\", fontsize = 16)\n",
    "plt.text(0.16, 1.52, \"Average of 3 kinetic energy estimators in $NVT$ ensemble using PILE$\\_$L thermostat\", fontsize = 16)\n",
    "plt.annotate(\"\", xy=(0.19, 1.504), xytext=(0.22, 1.513),arrowprops=dict(arrowstyle=\"<-\"))\n",
    "plt.plot(np.linspace(-0.1, 2.1, 10), 1.502966*np.ones(10))"
   ]
  },
  {
   "cell_type": "code",
   "execution_count": 705,
   "id": "fifth-ceiling",
   "metadata": {},
   "outputs": [
    {
     "data": {
      "text/plain": [
       "[<matplotlib.lines.Line2D at 0x12e6af250>]"
      ]
     },
     "execution_count": 705,
     "metadata": {},
     "output_type": "execute_result"
    },
    {
     "data": {
      "image/png": "[encoded data removed]",
      "text/plain": [
       "<Figure size 1152x864 with 1 Axes>"
      ]
     },
     "metadata": {
      "needs_background": "light"
     },
     "output_type": "display_data"
    }
   ],
   "source": [
    "plt.figure(figsize = (16, 12))\n",
    "plt.xticks([0, 2], [\"$P_{\\mathrm{prim}}$\", \"$P_{\\mathrm{cv}}$\"], fontsize = 16)\n",
    "# plt.xticks([], [], fontsize = 16)\n",
    "# plt.ylim(-2e-5, 6e-5)\n",
    "plt.yticks(fontsize = 16)\n",
    "plt.ylabel(\"Pressure / Hartree $\\cdot$ Bohr$^{-3}$\", fontsize = 16)\n",
    "# plt.errorbar(0, t_prim_mean, 1.0*tprimerr, marker = \"s\", linewidth = 0, elinewidth = 2.0, label = \"primitive kinetic energy estimator, model code\")\n",
    "# plt.errorbar(1, t_cv_mean, 1.0*tcverr, marker = \"s\", linewidth = 0, elinewidth = 2.0, label = \"centroid-virial kinetic energy estimator, model code\")\n",
    "plt.errorbar(0, p_prim_lmp_mean, 1.0*pprim_lmperr, marker = \"s\", linewidth = 0, elinewidth = 2.0, label = \"primitive pressure estimator, lammps\")\n",
    "plt.errorbar(2, p_cv_lmp_mean, 1.0*pcv_lmperr, marker = \"s\", linewidth = 0, elinewidth = 2.0, label = \"centroid-virial pressure estimator, lammps\")\n",
    "plt.legend(fontsize = 16, loc=\"upper left\")\n",
    "plt.text(0.2, 1e-5, \"Expectation of pressure: $<P>=0.0$\", fontsize = 16)\n",
    "plt.text(0.2, 4e-5, \"PIMD simulation of a harmonic oscillator with 4 beads, $\\\\beta=1.0$, $\\omega=1.0$\", fontsize = 16)\n",
    "plt.text(0.16, 3.7e-5, \"Average of 2 pressure estimators in $NVT$ ensemble using PILE$\\_$L thermostat\", fontsize = 16)\n",
    "plt.annotate(\"\", xy=(0.19, 0), xytext=(0.22, 1e-5),arrowprops=dict(arrowstyle=\"<-\"))\n",
    "plt.plot(np.linspace(-0.1, 2.1, 10), 0.0*np.ones(10))"
   ]
  },
  {
   "cell_type": "code",
   "execution_count": 627,
   "id": "alleged-rolling",
   "metadata": {},
   "outputs": [
    {
     "data": {
      "text/plain": [
       "[<matplotlib.lines.Line2D at 0x11bdacdd0>]"
      ]
     },
     "execution_count": 627,
     "metadata": {},
     "output_type": "execute_result"
    },
    {
     "data": {
      "image/png": "[encoded data removed]",
      "text/plain": [
       "<Figure size 1152x864 with 1 Axes>"
      ]
     },
     "metadata": {
      "needs_background": "light"
     },
     "output_type": "display_data"
    }
   ],
   "source": [
    "plt.figure(figsize = (16, 12))\n",
    "plt.xticks([0, 1], [\"$P_{\\mathrm{prim}}$\", \"$P_{\\mathrm{cv}}$\"], fontsize = 16)\n",
    "plt.yticks(fontsize = 16)\n",
    "plt.errorbar(0, p_prim_mean, 3.0*pprimerr, marker = \"s\", linewidth = 0, elinewidth = 2.0, label = \"primitive pressure estimator\")\n",
    "plt.errorbar(1, p_cv_mean, 5.0*pcverr, marker = \"s\", linewidth = 0, elinewidth = 2.0, label = \"centroid-virial pressure estimator\")\n",
    "plt.errorbar(2, p_prim_lmp_mean, 1.0*pprim_lmperr, marker = \"s\", linewidth = 0, elinewidth = 2.0, label = \"primitive pressure estimator, lammps\")\n",
    "plt.legend(fontsize = 16)\n",
    "plt.text(0.2, 0.0005, \"Expectation of pressure in $NVT$ thermostat: $<P>=0.00$\", fontsize = 16)\n",
    "# plt.text(0.2, 0.0035, \"Harmonic Oscillator, PILE$\\_$G thermostat, 4 beads\", fontsize = 16)\n",
    "# plt.text(0.2, 0.003, \"Average of 2 pressure estimators\", fontsize = 16)\n",
    "plt.plot(np.linspace(-0.1, 3.1, 10), 0.*np.ones(10))"
   ]
  },
  {
   "cell_type": "code",
   "execution_count": null,
   "id": "useful-branch",
   "metadata": {},
   "outputs": [],
   "source": []
  }
 ],
 "metadata": {
  "kernelspec": {
   "display_name": "Python 3",
   "language": "python",
   "name": "python3"
  },
  "language_info": {
   "codemirror_mode": {
    "name": "ipython",
    "version": 3
   },
   "file_extension": ".py",
   "mimetype": "text/x-python",
   "name": "python",
   "nbconvert_exporter": "python",
   "pygments_lexer": "ipython3",
   "version": "3.7.4"
  }
 },
 "nbformat": 4,
 "nbformat_minor": 5
}
