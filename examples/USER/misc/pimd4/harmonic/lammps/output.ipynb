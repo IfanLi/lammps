{
 "cells": [
  {
   "cell_type": "code",
   "execution_count": 1,
   "id": "sorted-adaptation",
   "metadata": {},
   "outputs": [],
   "source": [
    "import numpy as np\n",
    "import matplotlib.pyplot as plt\n",
    "%matplotlib inline"
   ]
  },
  {
   "cell_type": "code",
   "execution_count": null,
   "id": "nonprofit-audience",
   "metadata": {},
   "outputs": [],
   "source": []
  },
  {
   "cell_type": "code",
   "execution_count": 6,
   "id": "heated-fantasy",
   "metadata": {},
   "outputs": [],
   "source": [
    "N = 1001"
   ]
  },
  {
   "cell_type": "code",
   "execution_count": 7,
   "id": "loose-idaho",
   "metadata": {},
   "outputs": [
    {
     "name": "stdout",
     "output_type": "stream",
     "text": [
      "LAMMPS (24 Dec 2020)\n",
      "\n",
      "Processor partition = 0\n",
      "\n",
      "OMP_NUM_THREADS environment is not set. Defaulting to 1 thread. (src/comm.cpp:94)\n",
      "\n",
      "  using 1 OpenMP thread(s) per MPI task\n",
      "\n",
      "units\t\telectron\n",
      "\n",
      "atom_style\tatomic\n",
      "\n",
      "atom_modify map yes\n",
      "\n",
      "boundary\tp p p\n",
      "\n",
      "\n",
      "\n",
      "region mybox block -5.0 5.0 -5.0 5.0 -5.0 5.0\n",
      "\n",
      "create_box 1 mybox\n",
      "\n",
      "Created orthogonal box = (-5.0000000 -5.0000000 -5.0000000) to (5.0000000 5.0000000 5.0000000)\n",
      "\n",
      "  1 by 1 by 1 MPI processor grid\n",
      "\n",
      "create_atoms 1 single 0.0 0.0 0.0 units box\n",
      "\n",
      "Created 1 atoms\n",
      "\n",
      "  create_atoms CPU = 0.000 seconds\n",
      "\n",
      "pair_style zero 2.0 nocoeff\n",
      "\n",
      "pair_coeff * *\n",
      "\n",
      "mass\t\t1 1.0\n",
      "\n",
      "\n",
      "\n",
      "timestep 1.0\n",
      "\n",
      "fix 2 all spring/self 1.0 xyz\n",
      "\n",
      "fix_modify 2 energy yes\n",
      "\n",
      "velocity all set 0.1 0.1 0.1\n",
      "\n",
      "\n",
      "\n",
      "fix 1 all pimd3 method nmpimd ensemble nvt thermostat PILE_G 975481 tau 10.0 temp 3.42\n",
      "\n",
      "\n",
      "\n",
      "thermo_style custom step f_1[1] f_1[2] f_1[3] f_1[4] f_1[5] f_1[6] f_1[7] f_1[8] f_1[9]\n",
      "\n",
      "thermo 100\n",
      "\n",
      "\n",
      "\n",
      "run\t\t1000000\n",
      "\n",
      "Neighbor list info ...\n",
      "\n",
      "  update every 1 steps, delay 10 steps, check yes\n",
      "\n",
      "  max neighbors/atom: 2000, page size: 100000\n",
      "\n",
      "  master list distance cutoff = 4\n",
      "\n",
      "  ghost atom cutoff = 4\n",
      "\n",
      "  binsize = 2, bins = 5 5 5\n",
      "\n",
      "  1 neighbor lists, perpetual/occasional/extra = 1 0 0\n",
      "\n",
      "  (1) pair zero, perpetual\n",
      "\n",
      "      attributes: half, newton on\n",
      "\n",
      "      pair build: half/bin/atomonly/newton\n",
      "\n",
      "      stencil: half/bin/3d/newton\n",
      "\n",
      "      bin: standard\n",
      "\n",
      "Per MPI rank memory allocation (min/avg/max) = 3.068 | 3.068 | 3.068 Mbytes\n",
      "\n",
      "Step f_1[1] f_1[2] f_1[3] f_1[4] f_1[5] f_1[6] f_1[7] f_1[8] f_1[9] \n",
      "\n",
      "       0   0.14398727            0            0   0.14398727 6.4983051e-05           -0 1.6245763e-05 4.3322034e-08 3.2491525e-08 \n",
      "\n",
      "     100 0.00053325968 4.1507172e-09 0.0015252114 0.0020584752  6.49789e-05 0.0015252114 0.0003408775 -9.7348831e-07 -2.3686677e-06 \n",
      "\n",
      "     200 0.00014127728 7.7291516e-10 9.7400663e-05 0.00023867872 6.4982278e-05 9.7400663e-05 0.00010310176 -2.1612256e-08 1.1402186e-08 \n",
      "\n",
      "     300 8.3056021e-05 2.8122893e-10 8.2820923e-05 0.00016587723 6.498277e-05 8.2820923e-05 5.0741545e-05 -1.1892102e-08 -6.4158757e-08 \n",
      "\n",
      "  100500 3.4842731e-05 5.101323e-10 5.4431107e-05 8.9274348e-05 6.4982541e-05 5.4431107e-05 6.5260387e-05 7.0342891e-09 2.165856e-08 \n",
      "\n",
      "  100600 5.4535045e-05 2.8270827e-10 4.9978781e-05 0.00010451411 6.4982768e-05 4.9978781e-05 5.0859726e-05 1.0002658e-08 1.7618895e-09 \n",
      "\n",
      "  100700 0.00013584543 3.9689227e-10 0.00010271032 0.00023855615 6.4982654e-05 0.00010271032 6.6820308e-05 -2.5151777e-08 -7.1780021e-08 \n",
      "\n",
      "  100800 0.00010773918 2.2551341e-10 3.719182e-05 0.00014493122 6.4982825e-05 3.719182e-05 4.0339685e-05 1.8527337e-08 6.2957302e-09 \n",
      "\n",
      "  100900 7.0004974e-05 2.5581834e-10 4.3081507e-05 0.00011308674 6.4982795e-05 4.3081507e-05 5.1293017e-05 1.4600859e-08 1.642302e-08 \n",
      "\n",
      "  101000 5.5462201e-05 4.7554281e-10 8.8593614e-05 0.00014405629 6.4982575e-05 8.8593614e-05 6.6009592e-05 -1.5740693e-08 -4.5168044e-08 \n",
      "\n",
      "  101100 4.0120156e-05 3.383862e-10 4.0675093e-05 8.0795587e-05 6.4982712e-05 4.0675093e-05 5.5998523e-05 1.6205079e-08 3.0646859e-08 \n",
      "\n",
      "  101200 4.5701165e-05 4.4777219e-10 5.0987141e-05 9.6688753e-05 6.4982603e-05 5.0987141e-05 6.5013308e-05 9.3303083e-09 2.8052335e-08 \n",
      "\n",
      "  101300 5.9265103e-05 3.541816e-10 5.9724357e-05 0.00011898981 6.4982697e-05 5.9724357e-05 5.9666103e-05 3.5055598e-09 -1.1650825e-10 \n",
      "\n",
      "  101400 5.7652715e-05 2.0510766e-10 3.743663e-05 9.508955e-05 6.4982846e-05 3.743663e-05 3.8646768e-05 1.8364144e-08 2.4202751e-09 \n",
      "\n",
      "  101500 6.8600369e-05 3.2989599e-10 5.2673896e-05 0.00012127459 6.4982721e-05 5.2673896e-05 5.317997e-05 8.205883e-09 1.0121468e-09 \n",
      "\n",
      "  101600 4.9804829e-05 1.6621054e-10 2.0790325e-05 7.0595321e-05 6.4982885e-05 2.0790325e-05 3.6258937e-05 2.9461706e-08 3.0937222e-08 \n",
      "\n",
      "  101700 6.5157867e-05 5.3681668e-10 7.9365955e-05 0.00014452436 6.4982514e-05 7.9365955e-05 8.1473376e-05 -9.5889607e-09 4.2148428e-09 \n",
      "\n",
      "  101800 5.9078966e-05 4.9894136e-10 8.0681805e-05 0.00013976127 6.4982552e-05 8.0681805e-05 7.743647e-05 -1.0466169e-08 -6.4906698e-09 \n",
      "\n",
      "  101900 9.3202829e-05 2.3059536e-10 3.6492163e-05 0.00012969522 6.498282e-05 3.6492163e-05 4.4417707e-05 1.8993772e-08 1.5851088e-08 \n",
      "\n",
      "  102000 3.764028e-05   3.5825e-10 5.6755719e-05 9.4396356e-05 6.4982693e-05 5.6755719e-05 6.2917645e-05 5.4846493e-09 1.2323852e-08 \n",
      "\n",
      "  102100 3.8898198e-05 9.1299213e-10 0.00012894898 0.0001678481 6.4982138e-05 0.00012894898 0.00011960948 -4.2644564e-08 -1.8679007e-08 \n",
      "\n",
      "  102200 9.8623233e-05 5.8609161e-10 7.4767343e-05 0.00017339116 6.4982465e-05 7.4767343e-05 8.7332216e-05 -6.5232522e-09 2.5129747e-08 \n",
      "\n",
      "  102300 3.4919314e-05 4.9263356e-10 7.3305842e-05 0.00010822565 6.4982558e-05 7.3305842e-05 7.1993756e-05 -5.548856e-09 -2.6241719e-09 \n",
      "\n",
      "  102400 9.857815e-05 8.5403681e-11 1.1318766e-05  0.000109897 6.4982965e-05 1.1318766e-05 2.6437207e-05 3.5776133e-08 3.0236882e-08 \n",
      "\n",
      "  102500 4.7254461e-05 3.6266817e-10 3.9659238e-05 8.6914062e-05 6.4982688e-05 3.9659238e-05 5.1009861e-05  1.68823e-08 2.2701246e-08 \n",
      "\n",
      "  102600 4.4744277e-05 3.2782301e-10 9.3478416e-05 0.00013822302 6.4982723e-05 9.3478416e-05 5.2548819e-05 -1.8997129e-08 -8.1859194e-08 \n",
      "\n",
      "  102700 0.00010316278 2.1578726e-10 7.3262169e-05 0.00017642517 6.4982835e-05 7.3262169e-05 3.9282757e-05 -5.5195559e-09 -6.7958823e-08 \n",
      "\n",
      "  102800 6.0001247e-05 4.6358127e-10 7.2887045e-05 0.00013288876 6.4982587e-05 7.2887045e-05 8.2988492e-05 -5.2696385e-09 2.0202893e-08 \n",
      "\n",
      "  102900 6.1307639e-05 3.3216034e-10 5.4654307e-05 0.00011596228 6.4982719e-05 5.4654307e-05 6.0465202e-05 6.8856076e-09 1.162179e-08 \n",
      "\n",
      "  103000 2.9519737e-05 3.6196332e-10 5.7632488e-05 8.7152587e-05 6.4982689e-05 5.7632488e-05 5.2102993e-05 4.900134e-09 -1.1058989e-08 \n",
      "\n",
      "  103100 7.5035651e-05 4.6442461e-10 7.7781855e-05 0.00015281797 6.4982586e-05 7.7781855e-05 6.7782082e-05 -8.5328456e-09 -1.9999545e-08 \n",
      "\n",
      "  103200 6.3632813e-05 6.6837594e-10 8.3804442e-05 0.00014743792 6.4982382e-05 8.3804442e-05 9.5545501e-05 -1.2548039e-08 2.3482118e-08 \n",
      "\n",
      "  103300 7.5955245e-05 1.5909909e-10 4.6274827e-05 0.00012223023 6.4982892e-05 4.6274827e-05 3.8492944e-05 1.2472043e-08 -1.5563767e-08 \n",
      "\n",
      "  103400 3.2084465e-05 4.6778146e-10 7.4638536e-05 0.00010672347 6.4982583e-05 7.4638536e-05 6.7685012e-05 -6.4373022e-09 -1.3907049e-08 \n",
      "\n"
     ]
    }
   ],
   "source": [
    "data = []\n",
    "with open(\"logpimd/log.lammps.0\", \"r\") as f:\n",
    "    for i in range(49):\n",
    "        print(f.readline())\n",
    "    for i in range(N):\n",
    "        line = f.readline()\n",
    "        data.append(line.split())\n",
    "    for i in range(30):\n",
    "        print(f.readline())"
   ]
  },
  {
   "cell_type": "code",
   "execution_count": 8,
   "id": "dirty-japanese",
   "metadata": {},
   "outputs": [],
   "source": [
    "data_array = np.array(data).astype(\"float\")"
   ]
  },
  {
   "cell_type": "code",
   "execution_count": 9,
   "id": "chemical-metropolitan",
   "metadata": {},
   "outputs": [],
   "source": [
    "steps = data_array[:, 0]\n",
    "# tmp = data_array[:, 1]\n",
    "KE = data_array[:, 1]\n",
    "SE = data_array[:, 2]\n",
    "PE = data_array[:, 3]\n",
    "TE = data_array[:, 4]\n",
    "\n",
    "t_prim = data_array[:, 5]\n",
    "t_vir = data_array[:, 6]\n",
    "t_cv = data_array[:, 7]\n",
    "p_prim = data_array[:, 8]\n",
    "p_cv = data_array[:, 9]"
   ]
  },
  {
   "cell_type": "code",
   "execution_count": 10,
   "id": "hollow-resistance",
   "metadata": {},
   "outputs": [
    {
     "data": {
      "text/plain": [
       "6.549244964135864e-05"
      ]
     },
     "execution_count": 10,
     "metadata": {},
     "output_type": "execute_result"
    }
   ],
   "source": [
    "PE.mean()"
   ]
  },
  {
   "cell_type": "code",
   "execution_count": 11,
   "id": "alternate-merchandise",
   "metadata": {},
   "outputs": [
    {
     "data": {
      "text/plain": [
       "6.498260495204794e-05"
      ]
     },
     "execution_count": 11,
     "metadata": {},
     "output_type": "execute_result"
    }
   ],
   "source": [
    "t_prim.mean()"
   ]
  },
  {
   "cell_type": "code",
   "execution_count": 12,
   "id": "coordinated-found",
   "metadata": {},
   "outputs": [
    {
     "data": {
      "text/plain": [
       "6.549244964135864e-05"
      ]
     },
     "execution_count": 12,
     "metadata": {},
     "output_type": "execute_result"
    }
   ],
   "source": [
    "t_vir.mean()"
   ]
  },
  {
   "cell_type": "code",
   "execution_count": 13,
   "id": "amber-scheme",
   "metadata": {},
   "outputs": [
    {
     "data": {
      "text/plain": [
       "6.503130973426574e-05"
      ]
     },
     "execution_count": 13,
     "metadata": {},
     "output_type": "execute_result"
    }
   ],
   "source": [
    "t_cv.mean()"
   ]
  },
  {
   "cell_type": "code",
   "execution_count": 14,
   "id": "basic-intervention",
   "metadata": {},
   "outputs": [
    {
     "data": {
      "text/plain": [
       "-3.398964305084916e-10"
      ]
     },
     "execution_count": 14,
     "metadata": {},
     "output_type": "execute_result"
    }
   ],
   "source": [
    "p_prim.mean()"
   ]
  },
  {
   "cell_type": "code",
   "execution_count": 15,
   "id": "canadian-confidentiality",
   "metadata": {},
   "outputs": [
    {
     "data": {
      "text/plain": [
       "-9.222797747712287e-10"
      ]
     },
     "execution_count": 15,
     "metadata": {},
     "output_type": "execute_result"
    }
   ],
   "source": [
    "p_cv.mean()"
   ]
  },
  {
   "cell_type": "code",
   "execution_count": 16,
   "id": "smart-moment",
   "metadata": {},
   "outputs": [
    {
     "data": {
      "text/plain": [
       "array([ 8.4903969e-09, -4.4767201e-09, -1.1862703e-08, ...,\n",
       "       -3.7963169e-08, -2.1363793e-09, -2.0698860e-09])"
      ]
     },
     "execution_count": 16,
     "metadata": {},
     "output_type": "execute_result"
    }
   ],
   "source": [
    "p_prim"
   ]
  },
  {
   "cell_type": "code",
   "execution_count": 60,
   "id": "forced-investigator",
   "metadata": {},
   "outputs": [
    {
     "data": {
      "text/plain": [
       "[<matplotlib.lines.Line2D at 0x11fa7ca10>]"
      ]
     },
     "execution_count": 60,
     "metadata": {},
     "output_type": "execute_result"
    },
    {
     "data": {
      "image/png": "[encoded data removed]",
      "text/plain": [
       "<Figure size 432x288 with 1 Axes>"
      ]
     },
     "metadata": {
      "needs_background": "light"
     },
     "output_type": "display_data"
    }
   ],
   "source": [
    "plt.plot(t_vir)"
   ]
  },
  {
   "cell_type": "code",
   "execution_count": 61,
   "id": "everyday-lawsuit",
   "metadata": {},
   "outputs": [],
   "source": [
    "np.save(\"/Users/yifan/Work/pimd/lammpsPIMD/example/harmonic/task6\", np.c_[t_prim, t_vir, t_cv, p_prim, p_cv])"
   ]
  },
  {
   "cell_type": "code",
   "execution_count": 25,
   "id": "medical-blame",
   "metadata": {},
   "outputs": [
    {
     "data": {
      "text/plain": [
       "<matplotlib.legend.Legend at 0x11db46ad0>"
      ]
     },
     "execution_count": 25,
     "metadata": {},
     "output_type": "execute_result"
    },
    {
     "data": {
      "image/png": "[encoded data removed]",
      "text/plain": [
       "<Figure size 432x288 with 1 Axes>"
      ]
     },
     "metadata": {
      "needs_background": "light"
     },
     "output_type": "display_data"
    }
   ],
   "source": [
    "# plt.plot(steps, KE, label = \"KE\")\n",
    "# plt.plot(steps, prim, label = \"primitive\")\n",
    "plt.plot(steps, t_prim, label = \"virial\")\n",
    "plt.legend()"
   ]
  },
  {
   "cell_type": "code",
   "execution_count": 17,
   "id": "demographic-loading",
   "metadata": {},
   "outputs": [],
   "source": [
    "def errbar(data):\n",
    "    nsamp = 500\n",
    "    nevery = int(data.shape[0] / nsamp)\n",
    "    data_ = np.zeros(nsamp)\n",
    "    for k in range(nsamp):\n",
    "        data_[k] = data[k*nevery:(k+1)*nevery].mean()\n",
    "    errbar_ = np.sqrt(data_.var()/(nsamp-1))\n",
    "    return errbar_"
   ]
  },
  {
   "cell_type": "code",
   "execution_count": 19,
   "id": "lyric-castle",
   "metadata": {},
   "outputs": [],
   "source": [
    "t_prim_lmp_mean = t_prim[10::].mean()\n",
    "t_vir_lmp_mean = t_vir[10::].mean()\n",
    "t_cv_lmp_mean = t_cv[10::].mean()\n",
    "p_prim_lmp_mean = p_prim[10::].mean()\n",
    "p_cv_lmp_mean = p_cv[10::].mean()"
   ]
  },
  {
   "cell_type": "code",
   "execution_count": 18,
   "id": "amended-abortion",
   "metadata": {},
   "outputs": [],
   "source": [
    "tprim_lmperr = errbar(t_prim[10::])\n",
    "tvir_lmperr = errbar(t_vir[10::])\n",
    "tcv_lmperr = errbar(t_cv[10::])\n",
    "pprim_lmperr = errbar(p_prim[10::])\n",
    "pcv_lmperr = errbar(p_cv[10::])"
   ]
  },
  {
   "cell_type": "code",
   "execution_count": 22,
   "id": "mexican-architecture",
   "metadata": {},
   "outputs": [
    {
     "data": {
      "text/plain": [
       "[<matplotlib.lines.Line2D at 0x11538c390>]"
      ]
     },
     "execution_count": 22,
     "metadata": {},
     "output_type": "execute_result"
    },
    {
     "data": {
      "image/png": "[encoded data removed]",
      "text/plain": [
       "<Figure size 1152x864 with 1 Axes>"
      ]
     },
     "metadata": {
      "needs_background": "light"
     },
     "output_type": "display_data"
    }
   ],
   "source": [
    "plt.figure(figsize = (16, 12))\n",
    "plt.xticks([0, 1, 2], [\"$T_{\\mathrm{prim}}$\", \"$T_{\\mathrm{vir}}$\", \"$T_{\\mathrm{cv}}$\"], fontsize = 16)\n",
    "# plt.xticks([], [], fontsize = 16)\n",
    "plt.yticks(fontsize = 16)\n",
    "plt.ylabel(\"Kinetic energy / Hartree\", fontsize = 16)\n",
    "# plt.errorbar(0, t_prim_mean, 1.0*tprimerr, marker = \"s\", linewidth = 0, elinewidth = 2.0, label = \"primitive kinetic energy estimator, model code\")\n",
    "# plt.errorbar(1, t_cv_mean, 1.0*tcverr, marker = \"s\", linewidth = 0, elinewidth = 2.0, label = \"centroid-virial kinetic energy estimator, model code\")\n",
    "plt.errorbar(0, t_prim_lmp_mean, 1.0*tprim_lmperr, marker = \"s\", linewidth = 0, elinewidth = 2.0, label = \"primitive kinetic energy estimator, lammps\")\n",
    "plt.errorbar(1, t_vir_lmp_mean, 1.0*tvir_lmperr, marker = \"s\", linewidth = 0, elinewidth = 2.0, label = \"virial kinetic energy estimator, lammps\")\n",
    "plt.errorbar(2, t_cv_lmp_mean, 1.0*tcv_lmperr, marker = \"s\", linewidth = 0, elinewidth = 2.0, label = \"centroid-virial kinetic energy estimator, lammps\")\n",
    "plt.legend(fontsize = 16)\n",
    "# plt.text(0.2, 1.513, \"Expectation of quantum kinetic energy: $<T>=1.502966$\", fontsize = 16)\n",
    "# plt.text(0.2, 1.523, \"PIMD simulation of a harmonic oscillator with 4 beads, $\\\\beta=1.0$, $\\omega=1.0$\", fontsize = 16)\n",
    "# plt.text(0.16, 1.52, \"Average of 3 kinetic energy estimators in $NVT$ ensemble using PILE$\\_$L thermostat\", fontsize = 16)\n",
    "# plt.annotate(\"\", xy=(0.19, 1.504), xytext=(0.22, 1.513),arrowprops=dict(arrowstyle=\"<-\"))\n",
    "plt.plot(np.linspace(-0.1, 2.1, 10), 6.498216e-05*np.ones(10))"
   ]
  }
 ],
 "metadata": {
  "kernelspec": {
   "display_name": "Python 3",
   "language": "python",
   "name": "python3"
  },
  "language_info": {
   "codemirror_mode": {
    "name": "ipython",
    "version": 3
   },
   "file_extension": ".py",
   "mimetype": "text/x-python",
   "name": "python",
   "nbconvert_exporter": "python",
   "pygments_lexer": "ipython3",
   "version": "3.7.4"
  }
 },
 "nbformat": 4,
 "nbformat_minor": 5
}
