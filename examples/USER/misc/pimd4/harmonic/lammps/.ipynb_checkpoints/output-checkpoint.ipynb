{
 "cells": [
  {
   "cell_type": "code",
   "execution_count": 1,
   "id": "accredited-track",
   "metadata": {},
   "outputs": [],
   "source": [
    "import numpy as np\n",
    "import matplotlib.pyplot as plt\n",
    "%matplotlib inline"
   ]
  },
  {
   "cell_type": "code",
   "execution_count": null,
   "id": "uniform-islam",
   "metadata": {},
   "outputs": [],
   "source": []
  },
  {
   "cell_type": "code",
   "execution_count": 2,
   "id": "designing-protest",
   "metadata": {},
   "outputs": [],
   "source": [
    "N = 10001"
   ]
  },
  {
   "cell_type": "code",
   "execution_count": 3,
   "id": "determined-affect",
   "metadata": {},
   "outputs": [
    {
     "name": "stdout",
     "output_type": "stream",
     "text": [
      "LAMMPS (24 Dec 2020)\n",
      "\n",
      "Processor partition = 0\n",
      "\n",
      "OMP_NUM_THREADS environment is not set. Defaulting to 1 thread. (src/comm.cpp:94)\n",
      "\n",
      "  using 1 OpenMP thread(s) per MPI task\n",
      "\n",
      "units lj\n",
      "\n",
      "atom_style atomic\n",
      "\n",
      "atom_modify map yes\n",
      "\n",
      "boundary f f f\n",
      "\n",
      "region mybox block -5.0 5.0 -5.0 5.0 -5.0 5.0\n",
      "\n",
      "create_box 1 mybox\n",
      "\n",
      "Created orthogonal box = (-5.0000000 -5.0000000 -5.0000000) to (5.0000000 5.0000000 5.0000000)\n",
      "\n",
      "  1 by 1 by 1 MPI processor grid\n",
      "\n",
      "create_atoms 1 single 0.0 0.0 0.0 units box\n",
      "\n",
      "Created 1 atoms\n",
      "\n",
      "  create_atoms CPU = 0.000 seconds\n",
      "\n",
      "pair_style zero 2.0 nocoeff\n",
      "\n",
      "pair_coeff * *\n",
      "\n",
      "mass 1 1.0\n",
      "\n",
      "timestep 0.2\n",
      "\n",
      "\n",
      "\n",
      "#thermo_style custom step ke pe etotal\n",
      "\n",
      "\n",
      "\n",
      "fix 1 all spring/self 1.0 xyz\n",
      "\n",
      "fix_modify 1 energy yes\n",
      "\n",
      "#fix 2 all nve\n",
      "\n",
      "velocity all set 0.1 0.1 0.1\n",
      "\n",
      "\n",
      "\n",
      "fix 4 all pimd3 method nmpimd ensemble nvt temp 0.5 thermostat PILE_G 975481\n",
      "\n",
      "#fix 4 all pimd2 method nmpimd thermostat baoab 975481 fmass 1.0 temp 1.0\n",
      "\n",
      "#fix 4 all pimd3 method nmpimd ensemble nve\n",
      "\n",
      "\n",
      "\n",
      "thermo_style custom step f_4[1] f_4[2] f_4[3] f_4[4] f_4[5] f_4[6] f_4[7] f_4[8] f_4[9]\n",
      "\n",
      "thermo 100\n",
      "\n",
      "\n",
      "\n",
      "run 1000000\n",
      "\n",
      "Neighbor list info ...\n",
      "\n",
      "  update every 1 steps, delay 10 steps, check yes\n",
      "\n",
      "  max neighbors/atom: 2000, page size: 100000\n",
      "\n",
      "  master list distance cutoff = 2.3\n",
      "\n",
      "  ghost atom cutoff = 2.3\n",
      "\n",
      "  binsize = 1.15, bins = 9 9 9\n",
      "\n",
      "  1 neighbor lists, perpetual/occasional/extra = 1 0 0\n",
      "\n",
      "  (1) pair zero, perpetual\n",
      "\n",
      "      attributes: half, newton on\n",
      "\n",
      "      pair build: half/bin/atomonly/newton\n",
      "\n",
      "      stencil: half/bin/3d/newton\n",
      "\n",
      "      bin: standard\n",
      "\n",
      "Per MPI rank memory allocation (min/avg/max) = 3.047 | 3.047 | 3.047 Mbytes\n",
      "\n",
      "Step f_4[1] f_4[2] f_4[3] f_4[4] f_4[5] f_4[6] f_4[7] f_4[8] f_4[9] \n",
      "\n",
      "Loop time of 25.8375 on 1 procs for 1000000 steps with 1 atoms\n",
      "\n",
      "\n",
      "\n",
      "Performance: 668794397.856 tau/day, 38703.380 timesteps/s\n",
      "\n",
      "99.5% CPU use with 1 MPI tasks x 1 OpenMP threads\n",
      "\n",
      "\n",
      "\n",
      "MPI task timing breakdown:\n",
      "\n",
      "Section |  min time  |  avg time  |  max time  |%varavg| %total\n",
      "\n",
      "---------------------------------------------------------------\n",
      "\n",
      "Pair    | 0.051883   | 0.051883   | 0.051883   |   0.0 |  0.20\n",
      "\n",
      "Neigh   | 0.11476    | 0.11476    | 0.11476    |   0.0 |  0.44\n",
      "\n",
      "Comm    | 0.089495   | 0.089495   | 0.089495   |   0.0 |  0.35\n",
      "\n",
      "Output  | 0.052201   | 0.052201   | 0.052201   |   0.0 |  0.20\n",
      "\n",
      "Modify  | 25.386     | 25.386     | 25.386     |   0.0 | 98.25\n",
      "\n",
      "Other   |            | 0.1435     |            |       |  0.56\n",
      "\n",
      "\n",
      "\n",
      "Nlocal:        1.00000 ave           1 max           1 min\n",
      "\n",
      "Histogram: 1 0 0 0 0 0 0 0 0 0\n",
      "\n",
      "Nghost:         0.00000 ave           0 max           0 min\n",
      "\n",
      "Histogram: 1 0 0 0 0 0 0 0 0 0\n",
      "\n",
      "Neighs:         0.00000 ave           0 max           0 min\n",
      "\n",
      "Histogram: 1 0 0 0 0 0 0 0 0 0\n",
      "\n",
      "\n",
      "\n",
      "Total # of neighbors = 0\n",
      "\n",
      "Ave neighs/atom = 0.0000000\n",
      "\n",
      "Neighbor list builds = 98989\n",
      "\n",
      "Dangerous builds = 93185\n",
      "\n",
      "Total wall time: 0:00:25\n",
      "\n",
      "\n",
      "\n",
      "\n"
     ]
    }
   ],
   "source": [
    "data = []\n",
    "with open(\"logpimd/log.lammps.0\", \"r\") as f:\n",
    "    for i in range(49):\n",
    "        print(f.readline())\n",
    "    for i in range(N):\n",
    "        line = f.readline()\n",
    "        data.append(line.split())\n",
    "    for i in range(30):\n",
    "        print(f.readline())"
   ]
  },
  {
   "cell_type": "code",
   "execution_count": 4,
   "id": "material-panama",
   "metadata": {},
   "outputs": [],
   "source": [
    "data_array = np.array(data).astype(\"float\")"
   ]
  },
  {
   "cell_type": "code",
   "execution_count": 5,
   "id": "norman-andrews",
   "metadata": {},
   "outputs": [],
   "source": [
    "steps = data_array[:, 0]\n",
    "# tmp = data_array[:, 1]\n",
    "KE = data_array[:, 1]\n",
    "SE = data_array[:, 2]\n",
    "PE = data_array[:, 3]\n",
    "TE = data_array[:, 4]\n",
    "\n",
    "t_prim = data_array[:, 5]\n",
    "t_vir = data_array[:, 6]\n",
    "t_cv = data_array[:, 7]\n",
    "p_prim = data_array[:, 8]\n",
    "p_cv = data_array[:, 9]"
   ]
  },
  {
   "cell_type": "code",
   "execution_count": 6,
   "id": "amended-representative",
   "metadata": {},
   "outputs": [
    {
     "data": {
      "text/plain": [
       "0.7461626780229377"
      ]
     },
     "execution_count": 6,
     "metadata": {},
     "output_type": "execute_result"
    }
   ],
   "source": [
    "PE.mean()"
   ]
  },
  {
   "cell_type": "code",
   "execution_count": 7,
   "id": "extraordinary-impression",
   "metadata": {},
   "outputs": [
    {
     "data": {
      "text/plain": [
       "0.7661450251006197"
      ]
     },
     "execution_count": 7,
     "metadata": {},
     "output_type": "execute_result"
    }
   ],
   "source": [
    "t_prim.mean()"
   ]
  },
  {
   "cell_type": "code",
   "execution_count": 8,
   "id": "rough-ontario",
   "metadata": {},
   "outputs": [
    {
     "data": {
      "text/plain": [
       "0.7461626780229377"
      ]
     },
     "execution_count": 8,
     "metadata": {},
     "output_type": "execute_result"
    }
   ],
   "source": [
    "t_vir.mean()"
   ]
  },
  {
   "cell_type": "code",
   "execution_count": 9,
   "id": "enhanced-pierre",
   "metadata": {},
   "outputs": [
    {
     "data": {
      "text/plain": [
       "0.7559037899400061"
      ]
     },
     "execution_count": 9,
     "metadata": {},
     "output_type": "execute_result"
    }
   ],
   "source": [
    "t_cv.mean()"
   ]
  },
  {
   "cell_type": "code",
   "execution_count": 10,
   "id": "genetic-century",
   "metadata": {},
   "outputs": [
    {
     "data": {
      "text/plain": [
       "1.3321564528368264e-05"
      ]
     },
     "execution_count": 10,
     "metadata": {},
     "output_type": "execute_result"
    }
   ],
   "source": [
    "p_prim.mean()"
   ]
  },
  {
   "cell_type": "code",
   "execution_count": 11,
   "id": "eastern-hartford",
   "metadata": {},
   "outputs": [
    {
     "data": {
      "text/plain": [
       "1.9482223611203878e-05"
      ]
     },
     "execution_count": 11,
     "metadata": {},
     "output_type": "execute_result"
    }
   ],
   "source": [
    "p_cv.mean()"
   ]
  },
  {
   "cell_type": "code",
   "execution_count": 12,
   "id": "novel-vancouver",
   "metadata": {},
   "outputs": [
    {
     "data": {
      "text/plain": [
       "array([ 0.002     , -0.0002431 ,  0.00033704, ...,  0.00049234,\n",
       "       -0.00129201,  0.00043623])"
      ]
     },
     "execution_count": 12,
     "metadata": {},
     "output_type": "execute_result"
    }
   ],
   "source": [
    "p_prim"
   ]
  },
  {
   "cell_type": "code",
   "execution_count": 13,
   "id": "contrary-letter",
   "metadata": {},
   "outputs": [
    {
     "data": {
      "text/plain": [
       "[<matplotlib.lines.Line2D at 0x11e939890>]"
      ]
     },
     "execution_count": 13,
     "metadata": {},
     "output_type": "execute_result"
    },
    {
     "data": {
      "image/png": "[encoded data removed]",
      "text/plain": [
       "<Figure size 432x288 with 1 Axes>"
      ]
     },
     "metadata": {
      "needs_background": "light"
     },
     "output_type": "display_data"
    }
   ],
   "source": [
    "plt.plot(t_vir)"
   ]
  },
  {
   "cell_type": "code",
   "execution_count": 153,
   "id": "nearby-trustee",
   "metadata": {},
   "outputs": [],
   "source": [
    "np.save(\"/Users/yifan/Work/pimd/Model/task3\", np.c_[t_prim, t_vir, t_cv, p_prim, p_cv])"
   ]
  },
  {
   "cell_type": "code",
   "execution_count": 25,
   "id": "cloudy-brand",
   "metadata": {},
   "outputs": [
    {
     "data": {
      "text/plain": [
       "<matplotlib.legend.Legend at 0x11db46ad0>"
      ]
     },
     "execution_count": 25,
     "metadata": {},
     "output_type": "execute_result"
    },
    {
     "data": {
      "image/png": "[encoded data removed]",
      "text/plain": [
       "<Figure size 432x288 with 1 Axes>"
      ]
     },
     "metadata": {
      "needs_background": "light"
     },
     "output_type": "display_data"
    }
   ],
   "source": [
    "# plt.plot(steps, KE, label = \"KE\")\n",
    "# plt.plot(steps, prim, label = \"primitive\")\n",
    "plt.plot(steps, t_prim, label = \"virial\")\n",
    "plt.legend()"
   ]
  }
 ],
 "metadata": {
  "kernelspec": {
   "display_name": "Python 3",
   "language": "python",
   "name": "python3"
  },
  "language_info": {
   "codemirror_mode": {
    "name": "ipython",
    "version": 3
   },
   "file_extension": ".py",
   "mimetype": "text/x-python",
   "name": "python",
   "nbconvert_exporter": "python",
   "pygments_lexer": "ipython3",
   "version": "3.7.4"
  }
 },
 "nbformat": 4,
 "nbformat_minor": 5
}
