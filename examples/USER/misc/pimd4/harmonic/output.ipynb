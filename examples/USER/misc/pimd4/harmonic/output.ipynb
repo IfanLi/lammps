{
 "cells": [
  {
   "cell_type": "code",
   "execution_count": 1,
   "id": "clinical-roots",
   "metadata": {},
   "outputs": [],
   "source": [
    "import numpy as np\n",
    "import matplotlib.pyplot as plt\n",
    "%matplotlib inline"
   ]
  },
  {
   "cell_type": "code",
   "execution_count": 173,
   "id": "entertaining-least",
   "metadata": {},
   "outputs": [
    {
     "name": "stdout",
     "output_type": "stream",
     "text": [
      "# column   1     --> step : The current simulation time step.\n",
      "\n",
      "# column   2     --> time{femtosecond} : The elapsed simulation time.\n",
      "\n",
      "# column   3     --> kinetic_md{atomic_unit} : The kinetic energy of the (extended) classical system.\n",
      "\n",
      "# column   4     --> spring{atomic_unit} : The total spring potential energy between the beads of all the ring polymers in the system.\n",
      "\n",
      "# column   5     --> potential{atomic_unit} : The physical system potential energy.\n",
      "\n",
      "# column   6     --> conserved{atomic_unit} : The value of the conserved energy quantity per bead.\n",
      "\n",
      "# column   7     --> kinetic_td{atomic_unit} : The primitive quantum kinetic energy of the physical system.\n",
      "\n",
      "# column   8     --> kinetic_cv{atomic_unit} : The centroid-virial quantum kinetic energy of the physical system.\n",
      "\n",
      "# column   9     --> pressure_cv{atomic_unit} : The quantum estimator for pressure of the physical system.\n",
      "\n"
     ]
    }
   ],
   "source": [
    "N = 1891\n",
    "data1 = []\n",
    "with open(\"../ipi/spring.data\", \"r\") as f:\n",
    "    for i in range(9):\n",
    "        print(f.readline())\n",
    "    for i in range(N):\n",
    "        line = f.readline()\n",
    "        data1.append(line.split())\n",
    "#     for i in range(30):\n",
    "#         print(f.readline())"
   ]
  },
  {
   "cell_type": "code",
   "execution_count": 65,
   "id": "recorded-sharp",
   "metadata": {},
   "outputs": [],
   "source": [
    "N = 10001"
   ]
  },
  {
   "cell_type": "code",
   "execution_count": 68,
   "id": "inappropriate-timeline",
   "metadata": {
    "scrolled": false
   },
   "outputs": [
    {
     "name": "stdout",
     "output_type": "stream",
     "text": [
      "LAMMPS (24 Dec 2020)\n",
      "\n",
      "Processor partition = 0\n",
      "\n",
      "OMP_NUM_THREADS environment is not set. Defaulting to 1 thread. (src/comm.cpp:94)\n",
      "\n",
      "  using 1 OpenMP thread(s) per MPI task\n",
      "\n",
      "units\t\telectron\n",
      "\n",
      "atom_style\tatomic\n",
      "\n",
      "atom_modify map yes\n",
      "\n",
      "boundary\tp p p\n",
      "\n",
      "\n",
      "\n",
      "region mybox block -5.0 5.0 -5.0 5.0 -5.0 5.0\n",
      "\n",
      "create_box 1 mybox\n",
      "\n",
      "Created orthogonal box = (-5.0000000 -5.0000000 -5.0000000) to (5.0000000 5.0000000 5.0000000)\n",
      "\n",
      "  1 by 1 by 1 MPI processor grid\n",
      "\n",
      "create_atoms 1 single 0.0 0.0 0.0 units box\n",
      "\n",
      "Created 1 atoms\n",
      "\n",
      "  create_atoms CPU = 0.000 seconds\n",
      "\n",
      "pair_style zero 2.0 nocoeff\n",
      "\n",
      "pair_coeff * *\n",
      "\n",
      "mass\t\t1 1.0\n",
      "\n",
      "\n",
      "\n",
      "timestep 1.0\n",
      "\n",
      "fix 2 all spring/self 1.0 xyz\n",
      "\n",
      "fix_modify 2 energy yes\n",
      "\n",
      "velocity all set 0.1 0.1 0.1\n",
      "\n",
      "\n",
      "\n",
      "fix 1 all pimd3 method nmpimd ensemble nvt thermostat PILE_G 975481 tau 10.0 temp 3.42\n",
      "\n",
      "\n",
      "\n",
      "thermo_style custom step f_1[1] f_1[2] f_1[3] f_1[4] f_1[5] f_1[6] f_1[7] f_1[8] f_1[9]\n",
      "\n",
      "thermo 100\n",
      "\n",
      "\n",
      "\n",
      "run\t\t1000000\n",
      "\n",
      "Neighbor list info ...\n",
      "\n",
      "  update every 1 steps, delay 10 steps, check yes\n",
      "\n",
      "  max neighbors/atom: 2000, page size: 100000\n",
      "\n",
      "  master list distance cutoff = 4\n",
      "\n",
      "  ghost atom cutoff = 4\n",
      "\n",
      "  binsize = 2, bins = 5 5 5\n",
      "\n",
      "  1 neighbor lists, perpetual/occasional/extra = 1 0 0\n",
      "\n",
      "  (1) pair zero, perpetual\n",
      "\n",
      "      attributes: half, newton on\n",
      "\n",
      "      pair build: half/bin/atomonly/newton\n",
      "\n",
      "      stencil: half/bin/3d/newton\n",
      "\n",
      "      bin: standard\n",
      "\n",
      "Per MPI rank memory allocation (min/avg/max) = 3.068 | 3.068 | 3.068 Mbytes\n",
      "\n",
      "Step f_1[1] f_1[2] f_1[3] f_1[4] f_1[5] f_1[6] f_1[7] f_1[8] f_1[9] \n",
      "\n",
      "Loop time of 25.0863 on 1 procs for 1000000 steps with 1 atoms\n",
      "\n",
      "\n",
      "\n",
      "Performance: 3444105162.881 fs/day, 0.000 hours/fs, 39862.328 timesteps/s\n",
      "\n",
      "99.8% CPU use with 1 MPI tasks x 1 OpenMP threads\n",
      "\n",
      "\n",
      "\n",
      "MPI task timing breakdown:\n",
      "\n",
      "Section |  min time  |  avg time  |  max time  |%varavg| %total\n",
      "\n",
      "---------------------------------------------------------------\n",
      "\n",
      "Pair    | 0.064663   | 0.064663   | 0.064663   |   0.0 |  0.26\n",
      "\n",
      "Neigh   | 0          | 0          | 0          |   0.0 |  0.00\n",
      "\n",
      "Comm    | 0.089711   | 0.089711   | 0.089711   |   0.0 |  0.36\n",
      "\n",
      "Output  | 0.045764   | 0.045764   | 0.045764   |   0.0 |  0.18\n",
      "\n",
      "Modify  | 24.703     | 24.703     | 24.703     |   0.0 | 98.47\n",
      "\n",
      "Other   |            | 0.1833     |            |       |  0.73\n",
      "\n",
      "\n",
      "\n",
      "Nlocal:        1.00000 ave           1 max           1 min\n",
      "\n",
      "Histogram: 1 0 0 0 0 0 0 0 0 0\n",
      "\n",
      "Nghost:         0.00000 ave           0 max           0 min\n",
      "\n",
      "Histogram: 1 0 0 0 0 0 0 0 0 0\n",
      "\n",
      "Neighs:         0.00000 ave           0 max           0 min\n",
      "\n",
      "Histogram: 1 0 0 0 0 0 0 0 0 0\n",
      "\n",
      "\n",
      "\n",
      "Total # of neighbors = 0\n",
      "\n",
      "Ave neighs/atom = 0.0000000\n",
      "\n",
      "Neighbor list builds = 0\n",
      "\n",
      "Dangerous builds = 0\n",
      "\n",
      "Total wall time: 0:00:25\n",
      "\n",
      "\n",
      "\n",
      "\n"
     ]
    }
   ],
   "source": [
    "data = []\n",
    "with open(\"logpimd/log.lammps.0\", \"r\") as f:\n",
    "    for i in range(45):\n",
    "        print(f.readline())\n",
    "    for i in range(N):\n",
    "        line = f.readline()\n",
    "        data.append(line.split())\n",
    "    for i in range(30):\n",
    "        print(f.readline())"
   ]
  },
  {
   "cell_type": "code",
   "execution_count": 174,
   "id": "australian-mainland",
   "metadata": {},
   "outputs": [],
   "source": [
    "data1_array = np.array(data1).astype(\"float\")\n",
    "data_array = np.array(data).astype(\"float\")"
   ]
  },
  {
   "cell_type": "code",
   "execution_count": 175,
   "id": "welcome-marking",
   "metadata": {},
   "outputs": [],
   "source": [
    "steps1 = data1_array[:, 0]\n",
    "KE1 = data1_array[:, 2]\n",
    "SE1 = data1_array[:, 3]\n",
    "PE1 = data1_array[:, 4]\n",
    "TE1 = data1_array[:, 5]\n",
    "\n",
    "t_prim1 = data1_array[:, 6]\n",
    "t_cv1 = data1_array[:, 7]\n",
    "p_cv1 = data1_array[:, 8]"
   ]
  },
  {
   "cell_type": "code",
   "execution_count": 70,
   "id": "molecular-vegetarian",
   "metadata": {},
   "outputs": [],
   "source": [
    "steps = data_array[:, 0]\n",
    "# tmp = data_array[:, 1]\n",
    "KE = data_array[:, 1]\n",
    "SE = data_array[:, 2]\n",
    "PE = data_array[:, 3]\n",
    "TE = data_array[:, 4]\n",
    "\n",
    "t_prim = data_array[:, 5]\n",
    "t_vir = data_array[:, 6]\n",
    "t_cv = data_array[:, 7]\n",
    "p_prim = data_array[:, 8]\n",
    "p_cv = data_array[:, 9]"
   ]
  },
  {
   "cell_type": "code",
   "execution_count": 176,
   "id": "aging-saudi",
   "metadata": {
    "scrolled": false
   },
   "outputs": [
    {
     "data": {
      "text/plain": [
       "6.425311686126388e-05"
      ]
     },
     "execution_count": 176,
     "metadata": {},
     "output_type": "execute_result"
    }
   ],
   "source": [
    "PE1.mean()"
   ]
  },
  {
   "cell_type": "code",
   "execution_count": 177,
   "id": "civilian-rebound",
   "metadata": {},
   "outputs": [
    {
     "data": {
      "text/plain": [
       "6.498245421390799e-05"
      ]
     },
     "execution_count": 177,
     "metadata": {},
     "output_type": "execute_result"
    }
   ],
   "source": [
    "t_prim1.mean()"
   ]
  },
  {
   "cell_type": "code",
   "execution_count": 178,
   "id": "thrown-clinic",
   "metadata": {},
   "outputs": [
    {
     "data": {
      "text/plain": [
       "6.498260439156084e-05"
      ]
     },
     "execution_count": 178,
     "metadata": {},
     "output_type": "execute_result"
    }
   ],
   "source": [
    "t_prim.mean()"
   ]
  },
  {
   "cell_type": "code",
   "execution_count": 179,
   "id": "antique-mayor",
   "metadata": {},
   "outputs": [
    {
     "data": {
      "text/plain": [
       "8.049887883601269e-05"
      ]
     },
     "execution_count": 179,
     "metadata": {},
     "output_type": "execute_result"
    }
   ],
   "source": [
    "t_cv1.mean()"
   ]
  },
  {
   "cell_type": "code",
   "execution_count": 180,
   "id": "unlikely-scratch",
   "metadata": {},
   "outputs": [
    {
     "data": {
      "text/plain": [
       "6.527437467916207e-05"
      ]
     },
     "execution_count": 180,
     "metadata": {},
     "output_type": "execute_result"
    }
   ],
   "source": [
    "t_vir.mean()"
   ]
  },
  {
   "cell_type": "code",
   "execution_count": 181,
   "id": "numeric-official",
   "metadata": {},
   "outputs": [
    {
     "data": {
      "text/plain": [
       "6.51984364880512e-05"
      ]
     },
     "execution_count": 181,
     "metadata": {},
     "output_type": "execute_result"
    }
   ],
   "source": [
    "t_cv.mean()"
   ]
  },
  {
   "cell_type": "code",
   "execution_count": 182,
   "id": "presidential-italian",
   "metadata": {},
   "outputs": [
    {
     "data": {
      "text/plain": [
       "-1.9451351467910707e-10"
      ]
     },
     "execution_count": 182,
     "metadata": {},
     "output_type": "execute_result"
    }
   ],
   "source": [
    "p_prim.mean()"
   ]
  },
  {
   "cell_type": "code",
   "execution_count": 183,
   "id": "professional-tract",
   "metadata": {},
   "outputs": [
    {
     "data": {
      "text/plain": [
       "-1.5187632724755523e-10"
      ]
     },
     "execution_count": 183,
     "metadata": {},
     "output_type": "execute_result"
    }
   ],
   "source": [
    "p_cv.mean()"
   ]
  },
  {
   "cell_type": "code",
   "execution_count": 184,
   "id": "colonial-patrick",
   "metadata": {},
   "outputs": [
    {
     "data": {
      "text/plain": [
       "array([ 4.3322034e-08, -9.7348831e-07, -2.1612256e-08, ...,\n",
       "       -2.7293578e-08, -1.8419914e-08, -6.5108994e-09])"
      ]
     },
     "execution_count": 184,
     "metadata": {},
     "output_type": "execute_result"
    }
   ],
   "source": [
    "p_prim"
   ]
  },
  {
   "cell_type": "code",
   "execution_count": 185,
   "id": "wooden-surprise",
   "metadata": {},
   "outputs": [
    {
     "data": {
      "text/plain": [
       "[<matplotlib.lines.Line2D at 0x118120110>]"
      ]
     },
     "execution_count": 185,
     "metadata": {},
     "output_type": "execute_result"
    },
    {
     "data": {
      "image/png": "[encoded data removed]",
      "text/plain": [
       "<Figure size 432x288 with 1 Axes>"
      ]
     },
     "metadata": {
      "needs_background": "light"
     },
     "output_type": "display_data"
    }
   ],
   "source": [
    "plt.plot(t_prim1)"
   ]
  },
  {
   "cell_type": "code",
   "execution_count": 119,
   "id": "valid-monster",
   "metadata": {},
   "outputs": [
    {
     "data": {
      "text/plain": [
       "[<matplotlib.lines.Line2D at 0x11725fd90>]"
      ]
     },
     "execution_count": 119,
     "metadata": {},
     "output_type": "execute_result"
    },
    {
     "data": {
      "image/png": "[encoded data removed]",
      "text/plain": [
       "<Figure size 432x288 with 1 Axes>"
      ]
     },
     "metadata": {
      "needs_background": "light"
     },
     "output_type": "display_data"
    }
   ],
   "source": [
    "plt.plot(t_cv1)"
   ]
  },
  {
   "cell_type": "code",
   "execution_count": 120,
   "id": "mysterious-island",
   "metadata": {},
   "outputs": [],
   "source": [
    "# np.save(\"/Users/yifan/Work/pimd/lammpsPIMD/example/harmonic/task6\", np.c_[t_prim, t_vir, t_cv, p_prim, p_cv])"
   ]
  },
  {
   "cell_type": "code",
   "execution_count": 25,
   "id": "aggressive-electricity",
   "metadata": {},
   "outputs": [
    {
     "data": {
      "text/plain": [
       "<matplotlib.legend.Legend at 0x11db46ad0>"
      ]
     },
     "execution_count": 25,
     "metadata": {},
     "output_type": "execute_result"
    },
    {
     "data": {
      "image/png": "[encoded data removed]",
      "text/plain": [
       "<Figure size 432x288 with 1 Axes>"
      ]
     },
     "metadata": {
      "needs_background": "light"
     },
     "output_type": "display_data"
    }
   ],
   "source": [
    "# plt.plot(steps, KE, label = \"KE\")\n",
    "# plt.plot(steps, prim, label = \"primitive\")\n",
    "plt.plot(steps, t_prim, label = \"virial\")\n",
    "plt.legend()"
   ]
  },
  {
   "cell_type": "code",
   "execution_count": 151,
   "id": "sufficient-interim",
   "metadata": {},
   "outputs": [],
   "source": [
    "def errbar(data):\n",
    "    nsamp = 100\n",
    "    nevery = int(data.shape[0] / nsamp)\n",
    "    data_ = np.zeros(nsamp)\n",
    "    for k in range(nsamp):\n",
    "        data_[k] = data[k*nevery:(k+1)*nevery].mean()\n",
    "    errbar_ = np.sqrt(data_.var()/(nsamp-1))\n",
    "    return errbar_"
   ]
  },
  {
   "cell_type": "code",
   "execution_count": 186,
   "id": "congressional-spyware",
   "metadata": {},
   "outputs": [],
   "source": [
    "t_prim_lmp_mean = t_prim[10::].mean()\n",
    "t_vir_lmp_mean = t_vir[10::].mean()\n",
    "t_cv_lmp_mean = t_cv[10::].mean()\n",
    "p_prim_lmp_mean = p_prim[10::].mean()\n",
    "p_cv_lmp_mean = p_cv[10::].mean()"
   ]
  },
  {
   "cell_type": "code",
   "execution_count": 187,
   "id": "elder-melbourne",
   "metadata": {},
   "outputs": [],
   "source": [
    "t_prim_ipi_mean = t_prim1[10::].mean()\n",
    "t_cv_ipi_mean = t_cv1[10::].mean()"
   ]
  },
  {
   "cell_type": "code",
   "execution_count": 188,
   "id": "uniform-partnership",
   "metadata": {},
   "outputs": [],
   "source": [
    "tprim_lmperr = errbar(t_prim[10::])\n",
    "tvir_lmperr = errbar(t_vir[10::])\n",
    "tcv_lmperr = errbar(t_cv[10::])\n",
    "pprim_lmperr = errbar(p_prim[10::])\n",
    "pcv_lmperr = errbar(p_cv[10::])"
   ]
  },
  {
   "cell_type": "code",
   "execution_count": 189,
   "id": "rapid-commons",
   "metadata": {},
   "outputs": [],
   "source": [
    "tprim_ipierr = errbar(t_prim1[10::])\n",
    "tcv_ipierr = errbar(t_cv1[10::])"
   ]
  },
  {
   "cell_type": "code",
   "execution_count": null,
   "id": "statistical-orientation",
   "metadata": {},
   "outputs": [],
   "source": []
  },
  {
   "cell_type": "code",
   "execution_count": null,
   "id": "cordless-geneva",
   "metadata": {},
   "outputs": [],
   "source": []
  },
  {
   "cell_type": "code",
   "execution_count": 172,
   "id": "sustainable-potter",
   "metadata": {},
   "outputs": [
    {
     "data": {
      "text/plain": [
       "[<matplotlib.lines.Line2D at 0x117ee1ad0>]"
      ]
     },
     "execution_count": 172,
     "metadata": {},
     "output_type": "execute_result"
    },
    {
     "data": {
      "image/png": "[encoded data removed]",
      "text/plain": [
       "<Figure size 1152x864 with 1 Axes>"
      ]
     },
     "metadata": {
      "needs_background": "light"
     },
     "output_type": "display_data"
    }
   ],
   "source": [
    "plt.figure(figsize = (16, 12))\n",
    "plt.xticks([0, 1, 2], [\"$T_{\\mathrm{prim}}$\", \"$T_{\\mathrm{vir}}$\", \"$T_{\\mathrm{cv}}$\"], fontsize = 16)\n",
    "# plt.xticks([], [], fontsize = 16)\n",
    "plt.yticks(fontsize = 16)\n",
    "plt.ylabel(\"Kinetic energy / Hartree\", fontsize = 16)\n",
    "# plt.errorbar(0, t_prim_mean, 1.0*tprimerr, marker = \"s\", linewidth = 0, elinewidth = 2.0, label = \"primitive kinetic energy estimator, model code\")\n",
    "# plt.errorbar(1, t_cv_mean, 1.0*tcverr, marker = \"s\", linewidth = 0, elinewidth = 2.0, label = \"centroid-virial kinetic energy estimator, model code\")\n",
    "plt.errorbar(0, t_prim_lmp_mean, 1.0*tprim_lmperr, marker = \"s\", linewidth = 0, elinewidth = 2.0, label = \"primitive kinetic energy estimator, lammps\")\n",
    "plt.errorbar(1, t_vir_lmp_mean, 1.0*tvir_lmperr, marker = \"s\", linewidth = 0, elinewidth = 2.0, label = \"virial kinetic energy estimator, lammps\")\n",
    "plt.errorbar(2, t_cv_lmp_mean, 1.0*tcv_lmperr, marker = \"s\", linewidth = 0, elinewidth = 2.0, label = \"centroid-virial kinetic energy estimator, lammps\")\n",
    "\n",
    "plt.errorbar(3, t_prim_ipi_mean, 1.0*tprim_ipierr, marker = \"s\", linewidth = 0, elinewidth = 2.0, label = \"primitive kinetic energy estimator, ipi\")\n",
    "plt.errorbar(4, t_cv_ipi_mean, 1.0*tcv_ipierr, marker = \"s\", linewidth = 0, elinewidth = 2.0, label = \"primitive kinetic energy estimator, ipi\")\n",
    "\n",
    "plt.legend(fontsize = 16)\n",
    "# plt.text(0.2, 1.513, \"Expectation of quantum kinetic energy: $<T>=1.502966$\", fontsize = 16)\n",
    "# plt.text(0.2, 1.523, \"PIMD simulation of a harmonic oscillator with 4 beads, $\\\\beta=1.0$, $\\omega=1.0$\", fontsize = 16)\n",
    "# plt.text(0.16, 1.52, \"Average of 3 kinetic energy estimators in $NVT$ ensemble using PILE$\\_$L thermostat\", fontsize = 16)\n",
    "# plt.annotate(\"\", xy=(0.19, 1.504), xytext=(0.22, 1.513),arrowprops=dict(arrowstyle=\"<-\"))\n",
    "plt.plot(np.linspace(-0.1, 4.1, 10), 6.498216e-05*np.ones(10))"
   ]
  },
  {
   "cell_type": "code",
   "execution_count": null,
   "id": "ecological-snapshot",
   "metadata": {},
   "outputs": [],
   "source": []
  }
 ],
 "metadata": {
  "kernelspec": {
   "display_name": "Python 3",
   "language": "python",
   "name": "python3"
  },
  "language_info": {
   "codemirror_mode": {
    "name": "ipython",
    "version": 3
   },
   "file_extension": ".py",
   "mimetype": "text/x-python",
   "name": "python",
   "nbconvert_exporter": "python",
   "pygments_lexer": "ipython3",
   "version": "3.7.4"
  }
 },
 "nbformat": 4,
 "nbformat_minor": 5
}
